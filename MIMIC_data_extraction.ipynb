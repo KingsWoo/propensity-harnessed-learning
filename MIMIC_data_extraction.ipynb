{
 "cells": [
  {
   "cell_type": "code",
   "execution_count": 1,
   "id": "e0a84613-3f24-47e8-8b38-2e4505cfda49",
   "metadata": {},
   "outputs": [],
   "source": [
    "import os\n",
    "import pandas as pd\n",
    "import matplotlib.pyplot as plt\n",
    "import copy\n",
    "import numpy as np\n",
    "import pandas as pd\n",
    "import pickle\n",
    "import os\n",
    "from sklearn.preprocessing import StandardScaler\n",
    "import warnings\n",
    "from datetime import datetime\n",
    "warnings.filterwarnings('ignore')"
   ]
  },
  {
   "cell_type": "markdown",
   "id": "fbb863d8-79bd-4c6d-b96a-2fce18d5ae1b",
   "metadata": {},
   "source": [
    "### Read from MIMIC-IV csv files"
   ]
  },
  {
   "cell_type": "code",
   "execution_count": 3,
   "id": "9ab07185-a340-4842-b461-91cbdb353e61",
   "metadata": {},
   "outputs": [],
   "source": [
    "csv_path = '/1MIMIC'"
   ]
  },
  {
   "cell_type": "code",
   "execution_count": 5,
   "id": "53ac89e4-d734-4b1d-ad78-7e970ce6c9d4",
   "metadata": {},
   "outputs": [],
   "source": [
    "with open(csv_path+'/CSV/diagnoses_icd.csv/diagnoses_icd.csv', 'rb') as f:\n",
    "    diagnoses_icd = pd.read_csv(f)\n",
    "with open(csv_path+'/CSV/poe.csv/poe.csv', 'rb') as f:\n",
    "    df_poe = pd.read_csv(f)\n",
    "with open(csv_path+'/CSV/d_icd_diagnoses.csv/d_icd_diagnoses.csv', 'rb') as f:\n",
    "    diagnose_dic = pd.read_csv(f)\n",
    "with open(csv_path+'/CSV/labevents.csv/labevents.csv', 'rb') as f:\n",
    "    lab_df = pd.read_csv(f)\n",
    "with open(csv_path+'/CSV/omr.csv/omr.csv', 'rb') as f:\n",
    "    omr_df = pd.read_csv(f)\n",
    "with open(csv_path+'/CSV/admissions.csv/admissions.csv', 'rb') as f:\n",
    "    adm_df = pd.read_csv(f)\n",
    "with open(csv_path+'/CSV/patients.csv/patients.csv', 'rb') as f:\n",
    "    patient_df = pd.read_csv(f)"
   ]
  },
  {
   "cell_type": "markdown",
   "id": "e582757b-93c9-4189-82ba-b16c8c5eb19f",
   "metadata": {},
   "source": [
    "---\n",
    "### Process data\n",
    "#### Laboratory examinations"
   ]
  },
  {
   "cell_type": "code",
   "execution_count": 6,
   "id": "78637f37-144b-4075-a6be-55e7ed300eb6",
   "metadata": {},
   "outputs": [],
   "source": [
    "# extract all lab records\n",
    "lab_all=lab_df[['itemid','subject_id','hadm_id','valuenum','charttime']]"
   ]
  },
  {
   "cell_type": "code",
   "execution_count": 7,
   "id": "98e551e8-8bae-415d-b5de-b52cc83265bc",
   "metadata": {},
   "outputs": [],
   "source": [
    "# drop duplicate records for the same lab item in one time of visit, keep the first one  \n",
    "lab_all=lab_all.sort_values('charttime',ascending=True).drop_duplicates(['hadm_id','itemid'],keep='first')\n",
    "\n",
    "# filter lab items which have testing frequencies >=5%\n",
    "labitem_cnt=lab_all.groupby('itemid').hadm_id.nunique().sort_values(ascending=False).reset_index()\n",
    "labitem_cnt.rename(columns={'hadm_id':'cnt'},inplace=True)\n",
    "labitem_cnt['percent']=labitem_cnt['cnt']/lab_all.hadm_id.nunique()*100\n",
    "labitem_list=labitem_cnt[labitem_cnt.percent>=5].itemid\n",
    "lab_all=lab_all[lab_all.itemid.isin(labitem_list)]"
   ]
  },
  {
   "cell_type": "code",
   "execution_count": 8,
   "id": "48eb956d-4fb6-4850-a9c0-3ba77093eb22",
   "metadata": {},
   "outputs": [],
   "source": [
    "# reshaping the long table into a wide table by making lab items as columns \n",
    "lab_all = pd.pivot_table(lab_all, values='valuenum', index=['subject_id', 'hadm_id'], columns='itemid')\n",
    "# Creating a dictionary to map the existing column names to new names prefixed with 'M'\n",
    "new_column_names = {col: 'M' + str(col) for col in lab_all.columns}\n",
    "# Renaming the columns of the 'lab_all' DataFrame using the dictionary created\n",
    "lab_all = lab_all.rename(columns=new_column_names)"
   ]
  },
  {
   "cell_type": "markdown",
   "id": "ad947e48-240b-4adf-bef1-7f9bffa43930",
   "metadata": {},
   "source": [
    "#### Condition"
   ]
  },
  {
   "cell_type": "code",
   "execution_count": 9,
   "id": "6afa3562-22d3-4b90-88ee-392ea5e0a1ce",
   "metadata": {},
   "outputs": [],
   "source": [
    "# create disease category - icd_code starting digits mapping dictionary \n",
    "disease_icd_mapping = {\n",
    "    'ARR': ['I47','I48','I49','427'],\n",
    "    'AF': ['I48','42731'],\n",
    "    'CAS': ['I652','43310','43311'],\n",
    "    'DM': ['E10','E11','E12','E13','E14','250'],\n",
    "    'HTN': ['I10','I11','I12','I13','I15',\n",
    "            '401','402','403','404','405'],\n",
    "    'CM': ['I42','425'],\n",
    "    'CHD': ['I20','I21','I24','I25','I70',\n",
    "            '410','411','412','413','414',\n",
    "           '4292','440'],\n",
    "    'HLP': ['E78','272'],\n",
    "    'GERD': ['K219','5301'],\n",
    "    'HUA': ['E790']\n",
    "}\n",
    "\n",
    "# map disease category to exact icd-codes\n",
    "for disease, icd_codes in disease_icd_mapping.items():\n",
    "    _diag_list=[]\n",
    "    for code in icd_codes:\n",
    "        _diag_list.extend(diagnose_dic[diagnose_dic.icd_code.str.startswith(code)].icd_code.values)\n",
    "    disease_icd_mapping[disease] = _diag_list\n",
    "    \n",
    "# create a list of target diseases' corresponding icd-codes \n",
    "target_disease=[item for sublist in disease_icd_mapping.values() for item in sublist]"
   ]
  },
  {
   "cell_type": "code",
   "execution_count": 10,
   "id": "1f39ca3c-30fe-43e8-8565-f70fffa79c0a",
   "metadata": {},
   "outputs": [],
   "source": [
    "# filter condition in target disease lists\n",
    "condition_selected=diagnoses_icd[diagnoses_icd.icd_code.isin(target_disease)][['subject_id',\n",
    "                                                                         'hadm_id','icd_code']]\n",
    "condition_selected['value'] = 1\n",
    "con_all = pd.pivot_table(condition_selected, values='value', index=['subject_id', 'hadm_id'], columns='icd_code', fill_value=np.nan)\n"
   ]
  },
  {
   "cell_type": "code",
   "execution_count": 11,
   "id": "6c7285fc-0fbf-4d6f-bec9-c37969c3a6bd",
   "metadata": {},
   "outputs": [],
   "source": [
    "for disease in target_disease:\n",
    "    # Check if the disease column exists in df_cond\n",
    "    if disease not in con_all.columns:\n",
    "        # If not, add the column with np.nan values\n",
    "        con_all[disease] = np.nan\n",
    "# map icd_code to our target disease categories \n",
    "for key in disease_icd_mapping.keys():\n",
    "    con_all['C_'+key]=(np.sum(con_all[disease_icd_mapping[key]], axis=1) > 0).replace(True, 1).replace(False, np.nan)\n",
    "con_all=con_all[con_all.columns[con_all.columns.str.startswith('C_')].values]"
   ]
  },
  {
   "cell_type": "markdown",
   "id": "9cfaa2ef-3061-4266-8350-127044a874c9",
   "metadata": {
    "tags": []
   },
   "source": [
    "#### Vital Sign"
   ]
  },
  {
   "cell_type": "code",
   "execution_count": 12,
   "id": "5e11822d-66dc-437f-a044-1b6fd29da826",
   "metadata": {},
   "outputs": [],
   "source": [
    "adm_selected=adm_df[['subject_id','hadm_id','admittime','dischtime']]\n",
    "# for vital signs that have multiple records at the same dischtime, keep the first record \n",
    "omr_selected=omr_df.drop_duplicates(['subject_id', 'chartdate','result_name'],keep='first').drop('seq_num',axis=1)\n",
    "\n",
    "# merge admission detail and vital signs into a single dataframe merged_df\n",
    "merged_df = pd.merge(adm_selected, omr_selected, on='subject_id')\n",
    "\n",
    "# filter vital signs before admission time of the current visit \n",
    "filtered_df = merged_df[merged_df['chartdate'] < merged_df['admittime']]\n",
    "\n",
    "# Sort by subject_id, admittime, and chart_date\n",
    "sorted_df = filtered_df.sort_values(['subject_id', 'hadm_id','admittime', 'chartdate'])\n",
    "\n",
    "# reshaping the long table into a wide table by making vital signs as columns \n",
    "omr_selected = pd.pivot_table(sorted_df, values='result_value', index=['subject_id', 'hadm_id','admittime', 'dischtime'], columns='result_name', aggfunc='last').reset_index()"
   ]
  },
  {
   "cell_type": "code",
   "execution_count": 13,
   "id": "f52e9c1f-81df-4698-b730-6b0f5b04f6d9",
   "metadata": {},
   "outputs": [],
   "source": [
    "# merge with patient.csv to calculate patient age\n",
    "omr_selected=omr_selected.merge(patient_df[['subject_id','anchor_age','anchor_year']],on='subject_id',how='left')\n",
    "\n",
    "#Creating a datetime object for January 1, 00:00:00 of the given year\n",
    "omr_selected['anchor_year']=omr_selected.anchor_year.apply(lambda x:datetime(x, 1, 1, 0, 0, 0))\n",
    "#Change to datetime object\n",
    "omr_selected.admittime=omr_selected.admittime.apply(lambda x:datetime.strptime(x, '%Y-%m-%d %H:%M:%S'))\n",
    "# age=admittime- anchor_year + anchor_age\n",
    "omr_selected['age']=((omr_selected.admittime-omr_selected.anchor_year).dt.days / 365) + omr_selected.anchor_age\n"
   ]
  },
  {
   "cell_type": "code",
   "execution_count": 14,
   "id": "72cd8583-99c5-4d59-8727-f73c4b2d4398",
   "metadata": {},
   "outputs": [],
   "source": [
    "omr_selected=omr_selected.set_index(['subject_id', 'hadm_id'])\n",
    "# Drop columns with more than 90% NAs\n",
    "omr_cols=omr_selected.columns[ omr_selected.isna().sum()/omr_selected.shape[0]<0.9]\n",
    "omr_selected=omr_selected[omr_cols]\n",
    "\n",
    "# split blood pressure and store them in two columns \n",
    "omr_selected[['Blood_Pressure_High', 'Blood_Pressure_Low']] = omr_selected['Blood Pressure'].str.split('/', expand=True)\n",
    "omr_selected.drop(['admittime','anchor_age','anchor_year','Blood Pressure', 'dischtime'],axis=1,inplace=True)"
   ]
  },
  {
   "cell_type": "markdown",
   "id": "29e7332c-5278-41ff-9498-beb3ff061d9e",
   "metadata": {},
   "source": [
    "#### assign provider"
   ]
  },
  {
   "cell_type": "code",
   "execution_count": 15,
   "id": "292c368b-4a6b-4a21-a527-2a8b468933b7",
   "metadata": {},
   "outputs": [],
   "source": [
    "# Filtering rows in df_poe where the order_subtype is 'Discharge' and selecting specific columns\n",
    "dis_provider_df = df_poe[df_poe.order_subtype == 'Discharge'][['subject_id', 'hadm_id', 'order_provider_id', 'ordertime']]\n",
    "\n",
    "# Sorting the dis_provider_df DataFrame based on the 'ordertime' column and keeping only the last hadm_id's corresponding order_provider_id\n",
    "dis_provider_df = dis_provider_df.sort_values('ordertime').drop_duplicates('hadm_id', keep='last')\n",
    "\n",
    "# Dropping the 'ordertime' column from dis_provider_df\n",
    "dis_provider_df.drop('ordertime', axis=1, inplace=True)"
   ]
  },
  {
   "cell_type": "markdown",
   "id": "f157912e-d7ac-4568-bccd-6bb4dc086a06",
   "metadata": {},
   "source": [
    "#### Merge all datasets"
   ]
  },
  {
   "cell_type": "code",
   "execution_count": 16,
   "id": "36d5a91e-7627-4c9a-b803-5e52f3741e1d",
   "metadata": {},
   "outputs": [],
   "source": [
    "# Joining lab results, diagnoses, vital signs and provider information into a single DataFrame df_all\n",
    "df_all = lab_all.join(con_all).join(omr_selected).join(dis_provider_df.set_index(['subject_id', 'hadm_id'])).reset_index()"
   ]
  },
  {
   "cell_type": "code",
   "execution_count": 17,
   "id": "d360fcdd-d1e6-4936-9879-af2ff1352b93",
   "metadata": {},
   "outputs": [],
   "source": [
    "# Count the number of unique hadm_ids per order_provider_id\n",
    "count_df = df_all.groupby('order_provider_id')['hadm_id'].nunique().reset_index().rename(columns={'hadm_id':'visits'}).sort_values(by=['visits'], ascending=False)\n",
    "\n",
    "# Sort the DataFrame based on the count in descending order\n",
    "sorted_df = df_all.merge(count_df, on='order_provider_id', how='left').sort_values(by=['visits', 'order_provider_id', 'subject_id', 'hadm_id'], ascending=False)\n",
    "df_all_indexed = sorted_df.set_index(['order_provider_id','subject_id','hadm_id']).drop('visits',axis=1)"
   ]
  },
  {
   "cell_type": "markdown",
   "id": "cde32e77-c0aa-4838-a487-59ee7a00376a",
   "metadata": {
    "tags": []
   },
   "source": [
    "---\n",
    "### Extracting top physicians"
   ]
  },
  {
   "cell_type": "markdown",
   "id": "7875d80a-21f1-403b-9f71-2d161d227f30",
   "metadata": {},
   "source": [
    "#### set number of folds and physicians"
   ]
  },
  {
   "cell_type": "code",
   "execution_count": 18,
   "id": "a5c1ab71-de16-4dba-82c9-778a59a24c17",
   "metadata": {},
   "outputs": [],
   "source": [
    "n_folds, n_providers_per_fold = 11, 5\n",
    "n_providers = n_folds * n_providers_per_fold \n",
    "top_providers = count_df.iloc[0:n_providers]['order_provider_id']"
   ]
  },
  {
   "cell_type": "code",
   "execution_count": 19,
   "id": "43de877c-422c-4b12-836a-be352c3eec26",
   "metadata": {},
   "outputs": [],
   "source": [
    "# split label and features to two dataframes \n",
    "df_label = df_all_indexed.loc[top_providers][df_all_indexed.columns[df_all_indexed.columns.str.startswith('C_')]]\n",
    "df_feature = df_all_indexed.loc[top_providers][df_all_indexed.columns[~df_all_indexed.columns.str.startswith('C_')]]"
   ]
  },
  {
   "cell_type": "markdown",
   "id": "fe88e1f3-8eb1-4ca9-80c4-f3548bbfdbdd",
   "metadata": {},
   "source": [
    "#### Normalization"
   ]
  },
  {
   "cell_type": "code",
   "execution_count": 20,
   "id": "3ad31459-fd4d-409b-a197-d35729973ecd",
   "metadata": {},
   "outputs": [],
   "source": [
    "# normalization\n",
    "df_feature_scaled = df_feature.copy()\n",
    "for col in df_feature:\n",
    "    df_feature_scaled[col] = StandardScaler().fit_transform(df_feature[col].values.reshape(-1, 1))"
   ]
  },
  {
   "cell_type": "markdown",
   "id": "8d4beb9a-d6c8-4b6e-8a47-354c532db635",
   "metadata": {},
   "source": [
    "#### storage"
   ]
  },
  {
   "cell_type": "code",
   "execution_count": 21,
   "id": "b16da23c-0513-4197-a114-f8e829493f55",
   "metadata": {},
   "outputs": [],
   "source": [
    "with open(os.getcwd()+'/data/mimic/df_all.pickle', 'wb') as f:\n",
    "     pickle.dump(df_all_indexed, f)\n",
    "with open(os.getcwd()+'/data/mimic/df_feature.pickle', 'wb') as f:\n",
    "     pickle.dump(df_feature_scaled, f)\n",
    "with open(os.getcwd()+'/data/mimic/df_label.pickle', 'wb') as f:\n",
    "     pickle.dump(df_label, f)"
   ]
  },
  {
   "cell_type": "code",
   "execution_count": null,
   "id": "baa021cb-d5a7-4007-a120-941e32b281f1",
   "metadata": {},
   "outputs": [],
   "source": []
  }
 ],
 "metadata": {
  "kernelspec": {
   "display_name": "Python 3 (ipykernel)",
   "language": "python",
   "name": "python3"
  },
  "language_info": {
   "codemirror_mode": {
    "name": "ipython",
    "version": 3
   },
   "file_extension": ".py",
   "mimetype": "text/x-python",
   "name": "python",
   "nbconvert_exporter": "python",
   "pygments_lexer": "ipython3",
   "version": "3.9.12"
  }
 },
 "nbformat": 4,
 "nbformat_minor": 5
}
