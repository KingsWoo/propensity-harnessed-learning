{
 "cells": [
  {
   "cell_type": "code",
   "execution_count": null,
   "id": "19da7b88-6b59-4097-aa39-a6e50c52875b",
   "metadata": {},
   "outputs": [],
   "source": [
    "from sklearn.model_selection import KFold\n",
    "\n",
    "import numpy as np\n",
    "import pandas as pd\n",
    "import matplotlib.pyplot as plt\n",
    "from matplotlib import cm\n",
    "from matplotlib.colors import LinearSegmentedColormap\n",
    "import os\n",
    "import pickle\n",
    "import scipy\n",
    "import sklearn\n",
    "from sklearn.cluster import KMeans\n",
    "from sklearn.decomposition import PCA\n",
    "\n",
    "from sklearn.manifold import TSNE\n",
    "from sklearn.metrics import RocCurveDisplay, auc, roc_curve\n",
    "\n",
    "from custom_utils import validation_setup"
   ]
  },
  {
   "cell_type": "markdown",
   "id": "a35b20ea-f0a6-4a9e-924f-0de5cfc3c602",
   "metadata": {
    "tags": []
   },
   "source": [
    "---\n",
    "### read data"
   ]
  },
  {
   "cell_type": "code",
   "execution_count": null,
   "id": "493da950-a1ba-4461-9cb1-c7e7cd6aaa74",
   "metadata": {},
   "outputs": [],
   "source": [
    "data_path = '../data/mimic'\n",
    "output_path = '../output/mimic'"
   ]
  },
  {
   "cell_type": "code",
   "execution_count": null,
   "id": "02ce3883-b370-4e91-b8b7-fe72cce07eba",
   "metadata": {},
   "outputs": [],
   "source": [
    "with open(data_path+'/df_feature.pickle', 'rb') as f:\n",
    "    df_feature = pickle.load(f).fillna(0)\n",
    "\n",
    "with open(data_path+'/df_label.pickle', 'rb') as f:\n",
    "    df_label = pickle.load(f).fillna(0)"
   ]
  },
  {
   "cell_type": "code",
   "execution_count": null,
   "id": "dc566243-5cef-4136-8149-cffe55ae8cac",
   "metadata": {},
   "outputs": [],
   "source": [
    "concept_info = pd.read_csv('./d_labitems.csv', names=['itemid','label','fluid','category'], index_col='itemid')\n",
    "concept_info['used_name'] = concept_info['label'] + ' / ' + concept_info['fluid']"
   ]
  },
  {
   "cell_type": "code",
   "execution_count": null,
   "id": "62881ec6-31a7-472e-b073-8e85088f6387",
   "metadata": {},
   "outputs": [],
   "source": [
    "df_feature = df_feature.rename(columns={'M'+key: concept_info['used_name'].to_dict()[key] for key in concept_info['used_name'].to_dict()}).rename(\n",
    "    columns={'BMI (kg/m2)':'BMI / Physical', 'Height (Inches)':'Height / Physical', 'Weight (Lbs)':'Weight / Physical', 'age':'age / Demography', 'Blood_Pressure_High': 'SBP / Physical', 'Blood_Pressure_Low': 'DBP / Physical'}\n",
    ")\n",
    "df_label = df_label.rename(columns={key: key[2:] for key in df_label.columns})"
   ]
  },
  {
   "cell_type": "markdown",
   "id": "76d32013-5cd4-4a9b-9b5a-8b1321a43845",
   "metadata": {},
   "source": [
    "---\n",
    "### Table 1. feature characteristic"
   ]
  },
  {
   "cell_type": "code",
   "execution_count": null,
   "id": "e5b3cb4c-ed20-4705-b487-6348c38c9391",
   "metadata": {},
   "outputs": [],
   "source": [
    "df_feature.shape, df_label.shape"
   ]
  },
  {
   "cell_type": "code",
   "execution_count": null,
   "id": "bfb5ec81-11f4-4fcb-a254-2b8149d741b9",
   "metadata": {},
   "outputs": [],
   "source": [
    "np.round(df_label.sum(axis=0))"
   ]
  },
  {
   "cell_type": "code",
   "execution_count": null,
   "id": "7d734287-19fc-4666-b525-5d698873b726",
   "metadata": {},
   "outputs": [],
   "source": [
    "np.round(df_label.sum(axis=0) / df_label.shape[0] * 100, 2)"
   ]
  },
  {
   "cell_type": "markdown",
   "id": "26116311-00a3-48de-803e-47e805b8d785",
   "metadata": {},
   "source": [
    "#### remove HUA label"
   ]
  },
  {
   "cell_type": "code",
   "execution_count": null,
   "id": "d40e6b4f-7ec8-439b-9104-52f9ae7e4e10",
   "metadata": {},
   "outputs": [],
   "source": [
    "df_label = df_label.drop('HUA', axis=1)  # not predicting disease HUA for most of the providers didn't have corresponding diagnoses records"
   ]
  },
  {
   "cell_type": "markdown",
   "id": "4148991b-fafd-40c2-90b2-a3b8dd7c43e3",
   "metadata": {},
   "source": [
    "---\n",
    "### setups"
   ]
  },
  {
   "cell_type": "code",
   "execution_count": null,
   "id": "56cc79fc-309b-4413-9da9-cc5f5fc2d8fd",
   "metadata": {},
   "outputs": [],
   "source": [
    "dataset_name = 'MIMIC-IV'\n",
    "\n",
    "provider_ids = df_feature.index.get_level_values(0).unique()\n",
    "\n",
    "n_folds, n_providers_per_fold = 11, 5\n",
    "n_providers = n_folds * n_providers_per_fold \n",
    "n_inputs = df_feature.shape[1]\n",
    "n_labels = df_label.shape[1]\n",
    "\n",
    "col_labels = df_label.columns\n",
    "\n",
    "batch_size = 100\n",
    "n_iters = 40\n",
    "epsilon = 1e-7"
   ]
  },
  {
   "cell_type": "code",
   "execution_count": null,
   "id": "75f27a25-ac31-4e3e-91ef-4dce7493df46",
   "metadata": {},
   "outputs": [],
   "source": [
    "train_list, valid_list = validation_setup(n_folds, n_providers_per_fold)"
   ]
  },
  {
   "cell_type": "markdown",
   "id": "f178b212-6a38-4694-8c93-030da1cb119d",
   "metadata": {},
   "source": [
    "---\n",
    "### figure setups"
   ]
  },
  {
   "cell_type": "code",
   "execution_count": null,
   "id": "cd19acfe-74b4-4c9d-9af6-24ce180d9685",
   "metadata": {},
   "outputs": [],
   "source": [
    "LABEL_SIZE = 30\n",
    "TICK_SIZE = 25\n",
    "TICK_SIZE_SMALL = 20\n",
    "united_dpi = 400"
   ]
  },
  {
   "cell_type": "code",
   "execution_count": null,
   "id": "33306b8f-e6d1-4043-a419-9fd0b8995a54",
   "metadata": {},
   "outputs": [],
   "source": [
    "correlation_metrics = [r'Pearson $r$', r'Spearman $\\rho$', r'Kendall $\\tau$']\n",
    "evaluation_metrics = [r'Pearson $r$', r'Spearman $\\rho$', r'Kendall $\\tau$', r'$AUC_{ROC}$']\n",
    "metrics_names = ['pearsonr', 'spearmanr', 'kendalltau',  'roc_auc_score']"
   ]
  },
  {
   "cell_type": "code",
   "execution_count": null,
   "id": "c60a2313-102a-4a4e-9626-ea2b6aac0011",
   "metadata": {},
   "outputs": [],
   "source": [
    "markers = 'ov^s'\n",
    "layer_shape = [200, 50, 30]\n",
    "common_reg_list = [2e-5, 3e-5, 4e-5, 5e-5, 7e-5, 8e-5, 1e-4, 2e-4, 3e-4, 4e-4, 5e-4, 7e-4, 1e-3]\n",
    "common_wpa_list = np.arange(0,11) / 2\n",
    "used_reg = 8e-5\n",
    "used_wpa = 2"
   ]
  },
  {
   "cell_type": "markdown",
   "id": "bcf72af5-a13d-4ba8-bfb9-52f962519e57",
   "metadata": {
    "tags": []
   },
   "source": [
    "---\n",
    "### reading model predictions"
   ]
  },
  {
   "cell_type": "code",
   "execution_count": null,
   "id": "ba74bc32-92b8-4480-89a1-e7ec9cc3a071",
   "metadata": {},
   "outputs": [],
   "source": [
    "ind_pred_total = []\n",
    "df_ind_pred_total = []\n",
    "\n",
    "for i_provider in provider_ids:\n",
    "    \n",
    "    ind_pred_total_i = []\n",
    "    \n",
    "    for j_valid in provider_ids:    \n",
    "        \n",
    "        with open(output_path+'/ind/pred_train_on_%s_valid_on_%s.pickle' % (i_provider, j_valid), 'rb') as f:\n",
    "            ind_pred_total_i.append(pickle.load(f))\n",
    "            \n",
    "    ind_pred_total_i = np.vstack(ind_pred_total_i)\n",
    "    df_ind_pred_total_i = pd.DataFrame(\n",
    "        index=pd.MultiIndex.from_product([[i_provider], range(df_feature.shape[0])], names=['provider', 'pid']),\n",
    "        columns=col_labels, data=ind_pred_total_i\n",
    "    )\n",
    "    \n",
    "    ind_pred_total.append(ind_pred_total_i)\n",
    "    df_ind_pred_total.append(df_ind_pred_total_i)\n",
    "    \n",
    "ind_pred_total = np.stack(ind_pred_total, axis=1)\n",
    "df_ind_pred_total = pd.concat(df_ind_pred_total).reset_index()"
   ]
  },
  {
   "cell_type": "code",
   "execution_count": null,
   "id": "bebc9e36-75a1-4182-bf27-b00d6d0eb8cd",
   "metadata": {},
   "outputs": [],
   "source": [
    "with open(output_path+'/phyC-all-w=%.1f/train_pred_g.pickle' % used_wpa, 'rb') as f:\n",
    "    phyC_g_total = pickle.load(f)"
   ]
  },
  {
   "cell_type": "code",
   "execution_count": null,
   "id": "1f14c7d1-b84c-47d1-a310-a34ac456c822",
   "metadata": {},
   "outputs": [],
   "source": [
    "with open(output_path+'/phyC-all-w=%.1f/train_pred.pickle' % used_wpa, 'rb') as f:\n",
    "    phyC_pred_total = pickle.load(f)"
   ]
  },
  {
   "cell_type": "code",
   "execution_count": null,
   "id": "f8f7b0da-4c05-47d7-b70e-a0daf83a78f0",
   "metadata": {},
   "outputs": [],
   "source": [
    "with open(output_path+'/phyC-all-w=%.1f/train_kernel.pickle' % used_wpa, 'rb') as f:\n",
    "    phyC_kernel_total = pickle.load(f)"
   ]
  },
  {
   "cell_type": "code",
   "execution_count": null,
   "id": "72804cd2-1179-4692-9b40-86a419e6ccf5",
   "metadata": {},
   "outputs": [],
   "source": [
    "with open(output_path+'/phyC-all-w=%.1f/train_bias.pickle' % used_wpa, 'rb') as f:\n",
    "    phyC_bias_total = pickle.load(f)"
   ]
  },
  {
   "cell_type": "markdown",
   "id": "5a7aa344-9bda-4507-afd5-c533ace90f90",
   "metadata": {
    "tags": []
   },
   "source": [
    "---\n",
    "### Figure 1b - physician-paired inconsistency measures"
   ]
  },
  {
   "cell_type": "code",
   "execution_count": null,
   "id": "ecb292ec-33b3-48f8-8689-11871313db06",
   "metadata": {},
   "outputs": [],
   "source": [
    "# consistency_between_physicians = np.zeros([n_providers, n_providers, n_labels, 3])\n",
    "\n",
    "# for i_provider in range(n_providers):\n",
    "#     for j_provider in range(n_providers):\n",
    "#         for k_label in range(n_labels):\n",
    "#             consistency_between_physicians[i_provider, j_provider, k_label, 0] = scipy.stats.pearsonr(ind_pred_total[:, i_provider,k_label], ind_pred_total[:, j_provider,k_label]).statistic\n",
    "#             consistency_between_physicians[i_provider, j_provider, k_label, 1] = scipy.stats.spearmanr(ind_pred_total[:, i_provider,k_label], ind_pred_total[:, j_provider,k_label]).statistic\n",
    "#             consistency_between_physicians[i_provider, j_provider, k_label, 2] = scipy.stats.kendalltau(ind_pred_total[:, i_provider,k_label], ind_pred_total[:, j_provider,k_label]).statistic\n",
    "            \n",
    "#         print(i_provider, j_provider, end='\\r')\n",
    "            \n",
    "# with open(output_path+'/MLP/pair consistency.pickle', 'wb') as f:\n",
    "    \n",
    "#     pickle.dump(consistency_between_physicians, f)"
   ]
  },
  {
   "cell_type": "code",
   "execution_count": null,
   "id": "5677c330-0835-48cc-b660-e0630877291c",
   "metadata": {
    "tags": []
   },
   "outputs": [],
   "source": [
    "with open(output_path+'/MLP/pair consistency.pickle', 'rb') as f:\n",
    "    \n",
    "    consistency_between_physicians = pickle.load(f)\n",
    "    \n",
    "fig, axes = plt.subplots(nrows=3, ncols=9, figsize=(48, 12), dpi=united_dpi)\n",
    "\n",
    "plt.suptitle(dataset_name, x=0.45, fontsize=LABEL_SIZE+5)\n",
    "for i_metric in range(3):\n",
    "    for k_label in range(n_labels):\n",
    "        ax = axes.flat[i_metric*n_labels+k_label]\n",
    "        if i_metric == 0:\n",
    "            ax.set_title(col_labels[k_label], fontsize=LABEL_SIZE)\n",
    "        if k_label == 0:\n",
    "            ax.set_ylabel(correlation_metrics[i_metric], fontsize=LABEL_SIZE)\n",
    "        im = ax.imshow(consistency_between_physicians[:,:,k_label,i_metric], vmin=-1, vmax=1, cmap='RdBu')\n",
    "        ax.set_xticks([0,n_providers-1],[1,n_providers],fontsize=TICK_SIZE_SMALL)\n",
    "        ax.set_yticks([0,n_providers-1],[1,n_providers],fontsize=TICK_SIZE_SMALL)\n",
    "        # ax.invert_xaxis()\n",
    "cbar = fig.colorbar(im, ax=axes.ravel().tolist(), pad=0.01, ticks=np.arange(-1+1e-5,1.1,0.2-1e-6), format='%4.1f')\n",
    "cbar.ax.tick_params(labelsize=TICK_SIZE)\n",
    "\n",
    "plt.show()"
   ]
  },
  {
   "cell_type": "code",
   "execution_count": null,
   "id": "43403c1c-d48d-4591-a187-86cf5c905188",
   "metadata": {},
   "outputs": [],
   "source": [
    "((consistency_between_physicians.sum(axis=0)-1) / (consistency_between_physicians.shape[0]-1)).mean(axis=0).mean(axis=0)"
   ]
  },
  {
   "cell_type": "markdown",
   "id": "11d7766e-74dd-4467-b242-25de9b7fc265",
   "metadata": {},
   "source": [
    "### Figure 1d - group agreement (ICC) scores"
   ]
  },
  {
   "cell_type": "code",
   "execution_count": null,
   "id": "fb0b4084-b0aa-41e4-85d2-9fa5b957b194",
   "metadata": {
    "scrolled": true,
    "tags": []
   },
   "outputs": [],
   "source": [
    "# import pandas as pd\n",
    "# import pingouin as pg\n",
    "\n",
    "# # Compute ICC\n",
    "# icc_df_list = {}\n",
    "# for col_name in col_labels:\n",
    "#     print(col_name, end='\\r')\n",
    "#     icc_df_list[col_name] = pg.intraclass_corr(data=df_ind_pred_total, targets='pid', raters='provider', ratings=col_name)\n",
    "    \n",
    "# with open(output_path+'/MLP/group consistency.pickle', 'wb') as f:\n",
    "    \n",
    "#     pickle.dump(icc_df_list, f)"
   ]
  },
  {
   "cell_type": "code",
   "execution_count": null,
   "id": "7db5eba6-fb9e-4557-9a5c-561ec2b60c84",
   "metadata": {},
   "outputs": [],
   "source": [
    "with open(output_path+'/MLP/group consistency.pickle', 'rb') as f:\n",
    "    \n",
    "    icc_df_list = pickle.load(f)\n",
    "    \n",
    "plt.figure(figsize=(13,12), dpi=united_dpi)\n",
    "\n",
    "plt.fill_between([-1,n_labels], [1.0, 1.0], [0.75, 0.75], alpha=0.2, label='excellent', color='tab:cyan', lw=0)\n",
    "plt.fill_between([-1,n_labels], [0.75, 0.75], [0.6, 0.6], alpha=0.2, label='good', color='tab:green', lw=0)\n",
    "plt.fill_between([-1,n_labels], [0.6, 0.6], [0.4, 0.4], alpha=0.2, label='fair', color='tab:orange', lw=0)  \n",
    "plt.fill_between([-1,n_labels], [0.4, 0.4], [0.0, 0.0], alpha=0.2, label='poor', color='tab:red', lw=0)\n",
    "\n",
    "icc_values = [icc_df_list[s].iloc[2]['ICC'] for s in col_labels]\n",
    "\n",
    "markerline, stemlines, baseline = plt.stem(range(n_labels), icc_values, bottom=-1)\n",
    "\n",
    "for k_label in range(n_labels):\n",
    "    plt.text(k_label, icc_values[k_label]+0.02, '%.2f' % (icc_values[k_label]), fontsize=TICK_SIZE, horizontalalignment='center')\n",
    "    \n",
    "plt.setp(stemlines, 'linewidth', 5)\n",
    "plt.setp(markerline, markersize = 10)\n",
    "\n",
    "plt.ylim([0,1])\n",
    "plt.xlim([-1,n_labels])\n",
    "plt.title(dataset_name, fontsize=LABEL_SIZE)\n",
    "plt.xticks(range(n_labels), [s for s in col_labels], fontsize=TICK_SIZE)\n",
    "plt.yticks(fontsize=TICK_SIZE)\n",
    "plt.xlabel('Disease Name', fontsize=LABEL_SIZE)\n",
    "plt.ylabel('ICC(3,1)', fontsize=LABEL_SIZE)\n",
    "plt.legend(fontsize=TICK_SIZE)"
   ]
  },
  {
   "cell_type": "markdown",
   "id": "9b5942a8-a718-4edf-8e68-ce752befbc3d",
   "metadata": {
    "tags": []
   },
   "source": [
    "---\n",
    "### Figure 3\n",
    "#### evaluation_scores: change on $w_{PA}$, reg_scores: change on regularization"
   ]
  },
  {
   "cell_type": "code",
   "execution_count": null,
   "id": "8d4e7c5e-712e-4751-a823-a9f0d3ebad9c",
   "metadata": {
    "scrolled": true,
    "tags": []
   },
   "outputs": [],
   "source": [
    "def metrics_analysis(x):\n",
    "    \n",
    "    x = x.dropna()\n",
    "    x = x.groupby(['valid', 'label', 'metric']).mean()\n",
    "    _n_folds, _n_algs = x.shape\n",
    "    df = pd.DataFrame()\n",
    "    df['mean'] = x.mean(axis=0)\n",
    "    df['rank'] = df['mean'].rank(ascending=False)\n",
    "    df['std'] = x.std(axis=0)\n",
    "    df['statistic'], df['pvalue'], df['significance'] = 0,0.5,0\n",
    "    \n",
    "    for i in range(1, df.shape[0]):\n",
    "        df['statistic'].iloc[i], df['pvalue'].iloc[i] = scipy.stats.wilcoxon(x.iloc[:, 0], x.iloc[:, i])\n",
    "    \n",
    "    df['significance'] = (df['pvalue'] < 0.05).astype(int) + (df['pvalue'] < 0.01).astype(int) + (df['pvalue'] < 0.001).astype(int)\n",
    "    df['significance'] = ['*' * int(k1) + '•' * int(k2) \n",
    "                          for k1, k2 \n",
    "                          in zip((df['rank'] < df['rank'].iloc[0]) * df['significance'],\n",
    "                                 (df['rank'] > df['rank'].iloc[0]) * df['significance'])]\n",
    "\n",
    "    df['display'] = df.apply(lambda y: ('%.3f'%y['mean'])+'±'+('%.3f'%y['std']), axis=1)\n",
    "    \n",
    "    return df.T"
   ]
  },
  {
   "cell_type": "code",
   "execution_count": null,
   "id": "562d5c76-5d1f-41b0-ab76-f7f4fec808dc",
   "metadata": {
    "scrolled": true,
    "tags": []
   },
   "outputs": [],
   "source": [
    "alg_name_list = ['phyC-w=%.1f' % i for i in common_wpa_list]\n",
    "\n",
    "n_algs = len(alg_name_list)\n",
    "\n",
    "evaluation_scores = pd.DataFrame(columns=common_wpa_list, index=pd.MultiIndex.from_product([range(n_folds), col_labels, metrics_names, [0, 1]], names=['valid', 'label', 'metric', 'submetric']))\n",
    "\n",
    "for j_fold in range(n_folds):\n",
    "    \n",
    "    valid_labels = df_label.loc[provider_ids[valid_list[j_fold]]].values\n",
    "    \n",
    "    for i_alg, alg_name in enumerate(alg_name_list):\n",
    "        \n",
    "        with open(output_path + '/%s/pred_valid_%s_split_0.pickle' % (alg_name, j_fold), 'rb') as f:\n",
    "            pred_0 = pickle.load(f)\n",
    "        with open(output_path + '/%s/pred_valid_%s_split_1.pickle' % (alg_name, j_fold), 'rb') as f:\n",
    "            pred_1 = pickle.load(f)\n",
    "        \n",
    "        for i_label in range(n_labels):\n",
    "               \n",
    "            _cor = scipy.stats.pearsonr(pred_0[:, i_label], pred_1[:, i_label]).statistic\n",
    "            _rho = scipy.stats.spearmanr(pred_0[:, i_label], pred_1[:, i_label]).statistic\n",
    "            _tau = scipy.stats.kendalltau(pred_0[:, i_label], pred_1[:, i_label]).statistic\n",
    "            \n",
    "            if valid_labels[:, i_label].sum() > 0:\n",
    "                _roc_auc_0 = sklearn.metrics.roc_auc_score(valid_labels[:, i_label], pred_0[:, i_label])\n",
    "                _roc_auc_1 = sklearn.metrics.roc_auc_score(valid_labels[:, i_label], pred_1[:, i_label])\n",
    "            else:\n",
    "                _roc_auc_0 = np.nan\n",
    "                _roc_auc_1 = np.nan\n",
    "                \n",
    "            evaluation_scores.loc[(j_fold, col_labels[i_label], 'pearsonr', 0), common_wpa_list[i_alg]] = _cor\n",
    "            evaluation_scores.loc[(j_fold, col_labels[i_label], 'spearmanr', 0), common_wpa_list[i_alg]] = _rho\n",
    "            evaluation_scores.loc[(j_fold, col_labels[i_label], 'kendalltau', 0), common_wpa_list[i_alg]] = _tau\n",
    "            evaluation_scores.loc[(j_fold, col_labels[i_label], 'roc_auc_score', 0), common_wpa_list[i_alg]] = _roc_auc_0\n",
    "            evaluation_scores.loc[(j_fold, col_labels[i_label], 'roc_auc_score', 1), common_wpa_list[i_alg]] = _roc_auc_1\n",
    "            \n",
    "            print(j_fold, i_label, end='\\r')"
   ]
  },
  {
   "cell_type": "code",
   "execution_count": null,
   "id": "a1b3b4f9-291c-4fd0-8146-9141d78c85ec",
   "metadata": {
    "scrolled": true,
    "tags": []
   },
   "outputs": [],
   "source": [
    "evaluation_scores"
   ]
  },
  {
   "cell_type": "code",
   "execution_count": null,
   "id": "e8f3200d-b661-42e1-810d-76c579795abc",
   "metadata": {},
   "outputs": [],
   "source": [
    "scores_statistic = evaluation_scores.groupby(['label', 'metric']).apply(metrics_analysis)\n",
    "scores_mean_list = scores_statistic.loc[:,:,'mean'].groupby('metric').mean()\n",
    "scores_std_list = scores_statistic.loc[:,:,'std'].groupby('metric').mean()"
   ]
  },
  {
   "cell_type": "code",
   "execution_count": null,
   "id": "01507a8f-f480-4dbe-a834-84c2c6f57b52",
   "metadata": {},
   "outputs": [],
   "source": [
    "scores_mean_list"
   ]
  },
  {
   "cell_type": "code",
   "execution_count": null,
   "id": "a399dc92-9b33-4b25-bb9d-3794cc56d935",
   "metadata": {},
   "outputs": [],
   "source": []
  },
  {
   "cell_type": "code",
   "execution_count": null,
   "id": "4cf499f3-4280-427e-9c44-7dfe23f7b42a",
   "metadata": {},
   "outputs": [],
   "source": [
    "alg_name = 'MLP_grid_search'\n",
    "\n",
    "n_algs = len(common_reg_list)\n",
    "\n",
    "reg_scores = pd.DataFrame(columns=common_reg_list, index=pd.MultiIndex.from_product([range(n_folds), col_labels, metrics_names, [0, 1]], names=['valid', 'label', 'metric', 'submetric']))\n",
    "\n",
    "for j_fold in range(n_folds):\n",
    "    \n",
    "    valid_labels = df_label.loc[provider_ids[valid_list[j_fold]]].values\n",
    "    \n",
    "    for common_reg in common_reg_list:\n",
    "\n",
    "        with open(output_path + '/%s/preds/pred_%s.pickle' % (alg_name, (common_reg, str(layer_shape), j_fold)), 'rb') as f:\n",
    "\n",
    "            pred_0, pred_1 = pickle.load(f)\n",
    "            pred_0, pred_1 = pred_0.values, pred_1.values\n",
    "            \n",
    "        for i_label in range(n_labels):\n",
    "               \n",
    "            _cor = scipy.stats.pearsonr(pred_0[:, i_label], pred_1[:, i_label]).statistic\n",
    "            _rho = scipy.stats.spearmanr(pred_0[:, i_label], pred_1[:, i_label]).statistic\n",
    "            _tau = scipy.stats.kendalltau(pred_0[:, i_label], pred_1[:, i_label]).statistic\n",
    "            \n",
    "            if valid_labels[:, i_label].sum() > 0:\n",
    "                _roc_auc_0 = sklearn.metrics.roc_auc_score(valid_labels[:, i_label], pred_0[:, i_label])\n",
    "                _roc_auc_1 = sklearn.metrics.roc_auc_score(valid_labels[:, i_label], pred_1[:, i_label])\n",
    "            else:\n",
    "                _roc_auc_0 = np.nan\n",
    "                _roc_auc_1 = np.nan\n",
    "                \n",
    "            reg_scores.loc[(j_fold, col_labels[i_label], 'pearsonr', 0), common_reg] = _cor\n",
    "            reg_scores.loc[(j_fold, col_labels[i_label], 'spearmanr', 0), common_reg] = _rho\n",
    "            reg_scores.loc[(j_fold, col_labels[i_label], 'kendalltau', 0), common_reg] = _tau\n",
    "            reg_scores.loc[(j_fold, col_labels[i_label], 'roc_auc_score', 0), common_reg] = _roc_auc_0\n",
    "            reg_scores.loc[(j_fold, col_labels[i_label], 'roc_auc_score', 1), common_reg] = _roc_auc_1\n",
    "            \n",
    "            print(j_fold, i_label, end='\\r')"
   ]
  },
  {
   "cell_type": "code",
   "execution_count": null,
   "id": "a6307a5d-750b-4490-80a7-171aa85914f5",
   "metadata": {},
   "outputs": [],
   "source": [
    "reg_scores_statistic = reg_scores.groupby(['label', 'metric']).apply(metrics_analysis)\n",
    "reg_scores_mean_list = reg_scores_statistic.loc[:,:,'mean'].groupby('metric').mean()\n",
    "reg_scores_std_list = reg_scores_statistic.loc[:,:,'std'].groupby('metric').mean()"
   ]
  },
  {
   "cell_type": "code",
   "execution_count": null,
   "id": "accd6994-3100-4a00-8fbb-004c3dcf7b1f",
   "metadata": {},
   "outputs": [],
   "source": [
    "reg_scores_mean_list"
   ]
  },
  {
   "cell_type": "markdown",
   "id": "15e80768-1ffa-4429-a10a-3884a3e6313d",
   "metadata": {
    "tags": []
   },
   "source": [
    "### Figure 3a Comparison outputs"
   ]
  },
  {
   "cell_type": "code",
   "execution_count": null,
   "id": "7fe941a4-52a2-4b91-8107-5a1f0de6097e",
   "metadata": {},
   "outputs": [],
   "source": [
    "algs = [0, used_wpa]\n",
    "legends = ['Baseline', 'Ours($w_\\mathrm{PA}=%.1f$)' % used_wpa]\n",
    "\n",
    "bar_width, box_width, scatter_width = 0.2, 0.1, 0.2\n",
    "ind_width = bar_width + scatter_width\n",
    "group_width = (len(algs) + 0.5) * ind_width\n",
    "\n",
    "x_bar_anchor = np.arange(n_labels) * group_width\n",
    "x_scatter_anchor, _ = np.meshgrid(x_bar_anchor, np.arange(n_folds))\n",
    "\n",
    "y_sig_height = 0.035\n",
    "y_sig_shift = -  y_sig_height / 3\n",
    "\n",
    "plt.figure(figsize=(11,20), dpi=united_dpi)\n",
    "\n",
    "for i_metric, metric in enumerate(metrics_names):\n",
    "    \n",
    "    plt.subplot(4,1, i_metric+1)\n",
    "    \n",
    "    high_caps_y = []\n",
    "    \n",
    "    for i_alg, alg_value in enumerate(algs):\n",
    "          \n",
    "        this_metric = evaluation_scores[alg_value].groupby(['valid','label','metric']).mean().loc[:, col_labels, metric].values.reshape([n_labels, n_folds]).T \n",
    "        this_color = 'tab:orange' if i_alg == 0 else 'tab:blue'\n",
    "        this_bar_position = x_bar_anchor + i_alg * ind_width\n",
    "        this_scatter_position = x_scatter_anchor - scatter_width if i_alg == 0 else x_scatter_anchor + ind_width * i_alg + scatter_width\n",
    "        \n",
    "        plt.bar(this_bar_position, \n",
    "                scores_statistic.loc[col_labels, metric, 'mean'][alg_value], \n",
    "                width=bar_width, label=legends[i_alg],alpha=0.5,\n",
    "                color=this_color)\n",
    "        bplt = plt.boxplot(this_metric, positions=this_bar_position, widths=box_width, showfliers=True,medianprops={'color':'black'}, sym='+')\n",
    "        plt.scatter(this_scatter_position, this_metric, s=10, alpha=0.3, color=this_color)\n",
    "        \n",
    "        high_caps_y.append(np.array([cap._y[0] for cap in bplt['caps']]).reshape([n_labels, 2]).max(axis=1))\n",
    "        \n",
    "    plt.plot([-group_width/2,group_width*n_labels],[1,1], '--', c='black', alpha=0.4)\n",
    "    plt.ylim([0.4,1.07])\n",
    "    plt.xlim([-group_width/2,group_width*n_labels])\n",
    "    plt.title(evaluation_metrics[i_metric], fontsize=LABEL_SIZE)\n",
    "    plt.xticks(x_bar_anchor + 0.5 * group_width - 0.3, [_name for _name in col_labels], fontsize=TICK_SIZE)\n",
    "    plt.yticks([0.4,0.6,0.8,1.0], [0.4,0.6,0.8,1.0], fontsize=TICK_SIZE)\n",
    "    plt.legend(fontsize=TICK_SIZE_SMALL-3, loc='lower center', ncol=2)\n",
    "    \n",
    "    high_caps_y = np.vstack(high_caps_y).max(axis=0)\n",
    "\n",
    "    for i_sig in np.arange(n_labels):\n",
    "        \n",
    "        n_sig = 0\n",
    "        \n",
    "        for i_alg, alg_value in enumerate(algs):   \n",
    "            \n",
    "            if i_alg == 0:\n",
    "                continue\n",
    "             \n",
    "            _text = scores_statistic.loc[col_labels[i_sig], metric, 'significance'][alg_value]\n",
    "            \n",
    "            if len(_text) != 0:\n",
    "\n",
    "                _rect_left, _rect_right = i_sig * group_width, i_sig * group_width + i_alg * ind_width\n",
    "                _rect_low, _rect_high = high_caps_y[i_sig]+y_sig_height*(n_sig+1.1) + y_sig_height/4, high_caps_y[i_sig]+y_sig_height*(n_sig+1.1) + 2*y_sig_height/4\n",
    "            \n",
    "                plt.text(_rect_left/2 + _rect_right/2,\n",
    "                         _rect_high,\n",
    "                         _text,\n",
    "                         horizontalalignment='center', fontsize=TICK_SIZE_SMALL-5)\n",
    "                \n",
    "                plt.plot([_rect_left, _rect_left, _rect_right, _rect_right],\n",
    "                         [_rect_low, _rect_high, _rect_high, _rect_low],\n",
    "                         color='black', lw=1.1)\n",
    "                \n",
    "                n_sig += 1\n",
    "                \n",
    "plt.suptitle(dataset_name, x=0.2, fontsize=LABEL_SIZE+2)\n",
    "plt.tight_layout()\n",
    "plt.show()"
   ]
  },
  {
   "cell_type": "markdown",
   "id": "e13dd8e7-4d5d-4c84-9896-9129c6cf7fe1",
   "metadata": {},
   "source": [
    "### Figure3c trend of metrics with reg"
   ]
  },
  {
   "cell_type": "code",
   "execution_count": null,
   "id": "a7747736-5f3e-413b-aefb-cc4cfd4e146c",
   "metadata": {},
   "outputs": [],
   "source": [
    "plt.figure(figsize=(11,11), dpi=united_dpi)\n",
    "\n",
    "phyc_mean = scores_mean_list[used_wpa]\n",
    "phyc_std = scores_std_list[used_wpa]\n",
    "\n",
    "for i_metric, metric in enumerate(metrics_names):\n",
    "    \n",
    "    plt.plot([common_reg_list[0], common_reg_list[-1]], [phyc_mean.loc[metric], phyc_mean.loc[metric]], '-', color=cm.Set1(i_metric), lw=3)\n",
    "\n",
    "for i_metric, metric in enumerate(metrics_names):\n",
    "    \n",
    "    plt.plot(common_reg_list, reg_scores_mean_list.loc[metric], markers[i_metric]+'--', markersize=10, label=evaluation_metrics[i_metric],  color=cm.Set1(i_metric), lw=3)\n",
    "    plt.fill_between(common_reg_list, \n",
    "                     reg_scores_mean_list.loc[metric] + reg_scores_std_list.loc[metric], \n",
    "                     reg_scores_mean_list.loc[metric] - reg_scores_std_list.loc[metric],\n",
    "                     color=cm.Set1(i_metric), \n",
    "                     alpha=0.1, lw=0)\n",
    "\n",
    "plt.plot(used_reg, phyc_mean.max(axis=0) + 0.02, 'v', markersize=12, color='grey')\n",
    "\n",
    "plt.ylim([0.5,0.95])\n",
    "plt.xlim([common_reg_list[0], common_reg_list[-1]])\n",
    "plt.xscale('log')\n",
    "plt.xticks(common_reg_list,['  %.0e' % x for x in common_reg_list],fontsize=TICK_SIZE, rotation='90')\n",
    "plt.yticks(np.arange(0.5,0.91, 0.1), fontsize=TICK_SIZE)\n",
    "plt.xlabel('L1L2', fontsize=LABEL_SIZE)\n",
    "plt.ylabel('score', fontsize=LABEL_SIZE)\n",
    "plt.title(dataset_name, fontsize=LABEL_SIZE)\n",
    "plt.legend(fontsize=TICK_SIZE, loc='lower right')\n",
    "plt.show()"
   ]
  },
  {
   "cell_type": "markdown",
   "id": "c0182816-f2e3-4d6e-8ec8-067678ed7891",
   "metadata": {},
   "source": [
    "### Figure3e trend of metrics with $w_{PA}$"
   ]
  },
  {
   "cell_type": "code",
   "execution_count": null,
   "id": "54c70d25-da17-498f-aca7-76ee5ab801e1",
   "metadata": {},
   "outputs": [],
   "source": [
    "plt.figure(figsize=(11,11), dpi=united_dpi)\n",
    "\n",
    "for i_metric, metric in enumerate(metrics_names):\n",
    "    \n",
    "    plt.plot([0, common_wpa_list[-1]], [scores_mean_list.loc[metric][0], scores_mean_list.loc[metric][0]], '--', color=cm.Set1(i_metric), lw=3)\n",
    "\n",
    "for i_metric, metric in enumerate(metrics_names):\n",
    "    \n",
    "    plt.plot(common_wpa_list, scores_mean_list.loc[metric], markers[i_metric]+'-', markersize=10, label=evaluation_metrics[i_metric],  color=cm.Set1(i_metric), lw=3)\n",
    "    plt.fill_between(range(scores_mean_list.shape[1]), \n",
    "                     scores_mean_list.loc[metric] + scores_std_list.loc[metric], \n",
    "                     scores_mean_list.loc[metric] - scores_std_list.loc[metric],\n",
    "                     color=cm.Set1(i_metric), \n",
    "                     alpha=0.1, lw=0)\n",
    "\n",
    "plt.plot(used_wpa, scores_mean_list.max(axis=0)[used_wpa]+ 0.02, 'v', markersize=12, color='grey')\n",
    "\n",
    "plt.ylim([0.5,0.95])\n",
    "plt.xlim([0,common_wpa_list[-1]])\n",
    "plt.xticks(common_wpa_list,common_wpa_list,fontsize=TICK_SIZE)\n",
    "plt.yticks(np.arange(0.5,0.91, 0.1), fontsize=TICK_SIZE)\n",
    "plt.xlabel('$w_\\mathrm{PA}$', fontsize=LABEL_SIZE)\n",
    "plt.ylabel('score', fontsize=LABEL_SIZE)\n",
    "plt.title(dataset_name, fontsize=LABEL_SIZE)\n",
    "plt.legend(fontsize=TICK_SIZE, loc='lower right')\n",
    "plt.show()"
   ]
  },
  {
   "cell_type": "code",
   "execution_count": null,
   "id": "6316dbbf-a8c0-4dbe-bb93-ff3349717b8b",
   "metadata": {},
   "outputs": [],
   "source": [
    "scores_statistic[[0, used_wpa]].swaplevel(0,1).loc[metrics_names, col_labels, ['display', 'pvalue', 'significance']].to_csv(output_path+'/eval.csv', sep=',', index=True, encoding='utf-8')"
   ]
  },
  {
   "cell_type": "markdown",
   "id": "f37c97b9-9e24-468c-828a-9330aff847b3",
   "metadata": {},
   "source": [
    "---\n",
    "### Figure 4a 4b scatter map / Bland–Altman plots"
   ]
  },
  {
   "cell_type": "code",
   "execution_count": null,
   "id": "c380d3a1-2ec2-42ff-a1d3-79fd33bc8c65",
   "metadata": {
    "jp-MarkdownHeadingCollapsed": true,
    "scrolled": true,
    "tags": []
   },
   "outputs": [],
   "source": [
    "_cmap = LinearSegmentedColormap.from_list('1', cm.tab10.colors[:2])\n",
    "\n",
    "def cor_scatter_plt(alg_name, j_fold, k_label):\n",
    "    \n",
    "    valid_labels = df_label.loc[provider_ids[valid_list[j_fold]]].values[:, k_label]\n",
    "    \n",
    "    with open(output_path+'/%s/pred_valid_%d_split_0.pickle'% (alg_name, j_fold), 'rb') as f:  \n",
    "            _f0 = pickle.load(f)[:, k_label]\n",
    "    with open(output_path+'/%s/pred_valid_%d_split_1.pickle'% (alg_name, j_fold), 'rb') as f:  \n",
    "            _f1 = pickle.load(f)[:, k_label]\n",
    "    plt.scatter(_f0, _f1, c=valid_labels, alpha=0.3, s=10, cmap=_cmap)\n",
    "    plt.axis('square')\n",
    "    \n",
    "def bland_altman_plot(alg_name, j_fold, k_label):\n",
    "    \n",
    "    valid_labels = df_label.loc[provider_ids[valid_list[j_fold]]].values[:, k_label]\n",
    "    \n",
    "    with open(output_path+'/%s/pred_valid_%d_split_0.pickle'% (alg_name, j_fold), 'rb') as f:  \n",
    "            data1 = pickle.load(f)[:,k_label]\n",
    "    with open(output_path+'/%s/pred_valid_%d_split_1.pickle'% (alg_name, j_fold), 'rb') as f:  \n",
    "            data2 = pickle.load(f)[:,k_label]\n",
    "            \n",
    "    mean      = np.mean([data1, data2], axis=0)\n",
    "    diff      = data1 - data2                   # Difference between data1 and data2\n",
    "    md        = np.mean(diff)                   # Mean of the difference\n",
    "    sd        = np.std(diff, axis=0)            # Standard deviation of the difference\n",
    "\n",
    "    plt.scatter(mean, diff, c=valid_labels, alpha=0.3, s=10, cmap=_cmap)\n",
    "    plt.text(0.67,md + 1.96*sd + 0.02,'$μ+1.96σ$', fontsize=TICK_SIZE_SMALL-2)\n",
    "    plt.text(0.67,md - 1.96*sd - 0.08,'$μ-1.96σ$', fontsize=TICK_SIZE_SMALL-2)\n",
    "    plt.text(0.02,-0.58,'$μ=%.3f$\\n$σ=%.3f$'%(md,sd), fontsize=TICK_SIZE_SMALL)\n",
    "    plt.axhline(md,           color='gray', linestyle='--')\n",
    "    plt.axhline(md + 1.96*sd, color='gray', linestyle='--')\n",
    "    plt.axhline(md - 1.96*sd, color='gray', linestyle='--')\n",
    "    \n",
    "plt.figure(figsize=(20,15))\n",
    "\n",
    "j_fold = 1\n",
    "\n",
    "for i_place, label_name in enumerate(['HTN', 'HLP', 'CHD']): \n",
    "\n",
    "    k_label = col_labels.tolist().index(label_name)\n",
    "    \n",
    "    # MLP\n",
    "    ax = plt.subplot(3,4,1+i_place*4)\n",
    "    cor_scatter_plt('phyC-w=%.1f' % 0, j_fold, k_label)\n",
    "    plt.xlim([0,1])\n",
    "    plt.ylim([0,1])\n",
    "    plt.xticks((np.arange(0,11,2)/10)[1:], fontsize=TICK_SIZE_SMALL)\n",
    "    plt.yticks(np.arange(0,11,2)/10, fontsize=TICK_SIZE_SMALL)\n",
    "    plt.title('Baseline: %s'%label_name, fontsize=TICK_SIZE)\n",
    "    x_left, x_right, y_low, y_high = 0,1, 0,1\n",
    "    ax.set_aspect(abs((x_right-x_left)/(y_low-y_high)))\n",
    "    \n",
    "    # OURS\n",
    "    ax = plt.subplot(3,4,2+i_place*4)\n",
    "    cor_scatter_plt('phyC-w=%.1f' % used_wpa, j_fold, k_label)\n",
    "    plt.xlim([0,1])\n",
    "    plt.ylim([0,1])\n",
    "    plt.xticks((np.arange(0,11,2)/10)[1:], fontsize=TICK_SIZE_SMALL)\n",
    "    plt.yticks(np.arange(0,11,2)/10, fontsize=TICK_SIZE_SMALL)\n",
    "    plt.title('Ours: %s'%label_name, fontsize=TICK_SIZE)\n",
    "    x_left, x_right, y_low, y_high = 0,1, 0,1\n",
    "    ax.set_aspect(abs((x_right-x_left)/(y_low-y_high)))    \n",
    "    \n",
    "    # MLP\n",
    "    ax = plt.subplot(3,4,3+i_place*4)\n",
    "    bland_altman_plot('phyC-w=%.1f' % 0, j_fold, k_label)\n",
    "    plt.xticks((np.arange(-10,11,2)/10)[1:], fontsize=TICK_SIZE_SMALL)\n",
    "    plt.yticks(np.arange(-10,11,2)/10, fontsize=TICK_SIZE_SMALL)\n",
    "    plt.title('Baseline: %s'%label_name, fontsize=TICK_SIZE)\n",
    "    plt.xlim([0,1])\n",
    "    plt.ylim([-0.6,0.6])\n",
    "    x_left, x_right, y_low, y_high = 0,1, -0.6, 0.6\n",
    "    ax.set_aspect(abs((x_right-x_left)/(y_low-y_high)))    \n",
    "    \n",
    "    # OURS\n",
    "    ax = plt.subplot(3,4,4+i_place*4)\n",
    "    bland_altman_plot('phyC-w=%.1f' % used_wpa, j_fold, k_label)\n",
    "    plt.xticks((np.arange(-10,11,2)/10)[1:], fontsize=TICK_SIZE_SMALL)\n",
    "    plt.yticks(np.arange(-10,11,2)/10, fontsize=TICK_SIZE_SMALL)\n",
    "    plt.title('Ours: %s'%label_name, fontsize=TICK_SIZE)\n",
    "    plt.xlim([0,1])\n",
    "    plt.ylim([-0.6,0.6])\n",
    "    x_left, x_right, y_low, y_high = 0,1, -0.6, 0.6\n",
    "    ax.set_aspect(abs((x_right-x_left)/(y_low-y_high)))\n",
    "    \n",
    "plt.suptitle(dataset_name,fontsize=LABEL_SIZE)\n",
    "plt.tight_layout()\n",
    "plt.show()"
   ]
  },
  {
   "cell_type": "markdown",
   "id": "83e706de-4516-4f09-8852-3ede4ead40b2",
   "metadata": {
    "tags": []
   },
   "source": [
    "---\n",
    "### Figure 5 Distribution-Based Interpretation"
   ]
  },
  {
   "cell_type": "code",
   "execution_count": null,
   "id": "dc29571e-fc48-4177-be72-f21c90cda69b",
   "metadata": {
    "scrolled": true,
    "tags": []
   },
   "outputs": [],
   "source": [
    "# N=10000\n",
    "# rndperm = np.random.permutation(phyC_pred_total.shape[0])\n",
    "# phyC_pred_total_subset = phyC_pred_total[rndperm[:N]]\n",
    "# phyC_g_total_subset = phyC_g_total[rndperm[:N]]\n",
    "# tsne = TSNE(n_components=2, verbose=1, perplexity=400, n_iter=1000, init='pca',learning_rate='auto')\n",
    "\n",
    "# tsne_results = tsne.fit_transform(phyC_pred_total_subset)\n",
    "\n",
    "# with open(output_path+'/MLP/tsne_result.pickle', 'wb') as f:\n",
    "#     pickle.dump((N, rndperm, phyC_pred_total_subset, phyC_g_total_subset, tsne_results), f)"
   ]
  },
  {
   "cell_type": "markdown",
   "id": "dfe88c9d-c170-463e-8489-55e37e13189b",
   "metadata": {},
   "source": [
    "#### Figure 5a Propensity distribution maps"
   ]
  },
  {
   "cell_type": "code",
   "execution_count": null,
   "id": "0e60d90f-72f3-400e-a2d2-18344ebdd9ab",
   "metadata": {
    "scrolled": true,
    "tags": []
   },
   "outputs": [],
   "source": [
    "with open(output_path+'/MLP/tsne_result.pickle', 'rb') as f:\n",
    "    \n",
    "    N, rndperm, phyC_pred_total_subset, phyC_g_total_subset, tsne_results = pickle.load(f)\n",
    "\n",
    "nrows, ncols = 28, 18\n",
    "fig, axes = plt.subplots(nrows=nrows, ncols=ncols, figsize=(36, 55), layout='constrained', dpi=united_dpi)\n",
    "\n",
    "for i_provider in range(n_providers):\n",
    "    for k_label in range(n_labels):\n",
    "        ax = axes[i_provider % nrows, k_label + (i_provider >= nrows)*n_labels]\n",
    "        if i_provider % nrows == 0: \n",
    "            ax.set_title(col_labels[k_label], fontsize=TICK_SIZE*2)\n",
    "        if k_label == 0:\n",
    "            ax.set_ylabel(i_provider+1, fontsize=TICK_SIZE*2)\n",
    "        im = ax.scatter(tsne_results[:,0], tsne_results[:,1], alpha=1, s=0.2, c=phyC_g_total_subset[:,i_provider,k_label],cmap='viridis', vmin=0.8, vmax=1)\n",
    "        ax.set_xticks([])\n",
    "        ax.set_yticks([])\n",
    "        \n",
    "for ax in axes[-1,n_labels:]:\n",
    "    ax.set_visible(False)\n",
    "    \n",
    "cbar = fig.colorbar(im, ax=axes.ravel().tolist()[-9:], pad=-0.8, ticks=np.arange(0.8,1.05,0.1), format='%4.1f', fraction=0.6, aspect=30, shrink=0.9, alpha=1, orientation='horizontal')\n",
    "cbar.ax.tick_params(labelsize=TICK_SIZE*2)\n",
    "\n",
    "fig.suptitle('t-SNE map for physician\\'s propensities', fontsize=LABEL_SIZE*3)\n",
    "plt.show()"
   ]
  },
  {
   "cell_type": "markdown",
   "id": "4189db15-1743-4b43-b63e-29a2783b6cae",
   "metadata": {},
   "source": [
    "#### Figure 5b Disease predicted probability distribution maps"
   ]
  },
  {
   "cell_type": "code",
   "execution_count": null,
   "id": "a4a667e1-99fe-4bcd-b3cd-2f2ed7854f34",
   "metadata": {
    "scrolled": true,
    "tags": []
   },
   "outputs": [],
   "source": [
    "fig, axes = plt.subplots(nrows=3, ncols=3, figsize=(9, 11), layout='constrained', dpi=united_dpi)\n",
    "\n",
    "for i_label in range(n_labels):\n",
    "    ax = axes.flat[i_label]\n",
    "    im = ax.scatter(tsne_results[:,0], tsne_results[:,1], c=phyC_pred_total_subset[:,i_label], cmap='viridis_r', vmin=0, vmax=1, s=1)\n",
    "    ax.set_xticks([])\n",
    "    ax.set_yticks([])\n",
    "    ax.set_title(col_labels[i_label], fontsize=LABEL_SIZE)\n",
    "    \n",
    "cbar = fig.colorbar(im, ax=axes, pad=0.02, format='%4.1f', orientation='horizontal')\n",
    "fig.suptitle('t-SNE map for disease predicted probability', fontsize=LABEL_SIZE+2)\n",
    "cbar.ax.tick_params(labelsize=LABEL_SIZE)\n",
    "\n",
    "plt.show()"
   ]
  },
  {
   "cell_type": "markdown",
   "id": "8b78ff21-186c-4620-a51c-ffe0015bd89f",
   "metadata": {},
   "source": [
    "---\n",
    "### Figure 6 Correlation-Based Interpretation"
   ]
  },
  {
   "cell_type": "code",
   "execution_count": null,
   "id": "8e7694ab-a590-4816-87f4-46e9a6758569",
   "metadata": {
    "scrolled": true,
    "tags": []
   },
   "outputs": [],
   "source": [
    "phyC_feature_total_subset = df_feature.iloc[rndperm[:N]].values\n",
    "\n",
    "fig, axes = plt.subplots(nrows=9, ncols=1, figsize=(12, 11), layout='constrained', dpi=united_dpi)\n",
    "_provider = 0\n",
    "for _label in range(n_labels):\n",
    "    ax = axes.flat[_label]\n",
    "    \n",
    "    ax.plot([-1, n_inputs], [0, 0], '--', c='grey', linewidth=1)\n",
    "    \n",
    "    for i_func, coef_func in enumerate([scipy.stats.pearsonr, scipy.stats.spearmanr, scipy.stats.kendalltau]):\n",
    "        \n",
    "        coef_label = np.nan_to_num([coef_func(phyC_g_total_subset[:, _provider, _label], phyC_feature_total_subset[:, k_input]).statistic for k_input in range(n_inputs)]) \n",
    "        ax.plot(np.arange(n_inputs), coef_label, '-%s' % markers[i_func], color=cm.Set1(i_func), label=correlation_metrics[i_func], linewidth=0, alpha=0.5, ms=4)\n",
    "    \n",
    "    \n",
    "    ax.set_ylim([-0.6,0.6])\n",
    "    ax.set_xlim([-15, n_inputs])\n",
    "    ax.text(-13,0.3, '$p_{%d}$-%s'%(_provider+1, col_labels[_label]), fontsize=TICK_SIZE_SMALL/2)\n",
    "    ax.tick_params(labelsize=TICK_SIZE_SMALL/3)\n",
    "    if(_label + 1 == n_labels):\n",
    "        ax.set_xticks(range(n_inputs), df_feature.columns, fontsize=TICK_SIZE_SMALL/3, rotation=90)\n",
    "    else:\n",
    "        ax.set_xticks([],[], fontsize=TICK_SIZE_SMALL/3, rotation=90)\n",
    "        \n",
    "    ax.legend(loc='lower left', fontsize=TICK_SIZE/3)"
   ]
  },
  {
   "cell_type": "code",
   "execution_count": null,
   "id": "68317e44-7d72-420b-86ee-98bfc9227661",
   "metadata": {
    "scrolled": true,
    "tags": []
   },
   "outputs": [],
   "source": [
    "phyC_feature_total_subset = df_feature.iloc[rndperm[:N]].values\n",
    "\n",
    "_provider = 0\n",
    "\n",
    "fig, axes = plt.subplots(nrows=3, ncols=3, figsize=(10, 9), layout='tight', dpi=united_dpi)\n",
    "\n",
    "top_k = 10\n",
    "\n",
    "for _label in range(n_labels):\n",
    "\n",
    "    ax = axes.flat[_label]\n",
    "\n",
    "    ax.plot([0, 0], [-1, n_inputs], color='grey')\n",
    "    ax.plot([-0.3, 0.3], [top_k-0.5, top_k-0.5], '--', color='grey')\n",
    "\n",
    "    coef_label = np.nan_to_num([sum(\n",
    "        [coef_func(phyC_g_total_subset[:, _provider, _label], phyC_feature_total_subset[:, k_input]).statistic for coef_func in [scipy.stats.pearsonr, scipy.stats.spearmanr, scipy.stats.kendalltau]]\n",
    "    ) for k_input in range(n_inputs)], 0) / 3\n",
    "\n",
    "    top_pos_idx = np.hstack([coef_label.argsort()[:top_k], coef_label.argsort()[-top_k:]])\n",
    "\n",
    "    ax.barh(range(top_k*2), coef_label[top_pos_idx], height=0.7)\n",
    "\n",
    "    ax.set_xlim([-0.6,0.6])\n",
    "    ax.set_ylim([-1, top_k*2])\n",
    "    ax.set_title('$p_{%d}$-%s'%(_provider+1, col_labels[_label]), fontsize=TICK_SIZE_SMALL/2)\n",
    "    ax.tick_params(labelsize=TICK_SIZE_SMALL/2)\n",
    "    ax.set_yticks(range(top_k*2), df_feature.columns[top_pos_idx], fontsize=TICK_SIZE_SMALL/3)\n",
    "\n",
    "plt.show()"
   ]
  },
  {
   "cell_type": "markdown",
   "id": "8758808c-7ae4-4b10-9117-876230c8f3ba",
   "metadata": {
    "tags": []
   },
   "source": [
    "---\n",
    "### Figure 7 Cluster-Based Interpretation"
   ]
  },
  {
   "cell_type": "code",
   "execution_count": null,
   "id": "55f58fa7-986d-43ce-9147-ab072d2a160c",
   "metadata": {},
   "outputs": [],
   "source": [
    "import numpy as np\n",
    "from matplotlib import pyplot as plt\n",
    "from scipy.cluster.hierarchy import dendrogram\n",
    "\n",
    "from sklearn.cluster import AgglomerativeClustering\n",
    "\n",
    "\n",
    "def plot_dendrogram(model, ax, **kwargs):\n",
    "    # Create linkage matrix and then plot the dendrogram\n",
    "\n",
    "    # create the counts of samples under each node\n",
    "    counts = np.zeros(model.children_.shape[0])\n",
    "    n_samples = len(model.labels_)\n",
    "    for i, merge in enumerate(model.children_):\n",
    "        current_count = 0\n",
    "        for child_idx in merge:\n",
    "            if child_idx < n_samples:\n",
    "                current_count += 1  # leaf node\n",
    "            else:\n",
    "                current_count += counts[child_idx - n_samples]\n",
    "        counts[i] = current_count\n",
    "\n",
    "    linkage_matrix = np.column_stack(\n",
    "        [model.children_, model.distances_, counts]\n",
    "    ).astype(float)\n",
    "\n",
    "    # Plot the corresponding dendrogram\n",
    "    return dendrogram(linkage_matrix, ax=ax, **kwargs)"
   ]
  },
  {
   "cell_type": "markdown",
   "id": "d4d60534-b2b0-42d5-9f31-09e0d675af0a",
   "metadata": {
    "tags": []
   },
   "source": [
    "#### Figure 7 Hierarchical clustering dendrogram/transfer matrix/trainsfer vectors"
   ]
  },
  {
   "cell_type": "code",
   "execution_count": null,
   "id": "2f659975-edad-4e2e-9bbb-00ef3c1dca25",
   "metadata": {
    "scrolled": true,
    "tags": []
   },
   "outputs": [],
   "source": [
    "range_v = 0.12\n",
    "ddgs = []\n",
    "\n",
    "fig, axes = plt.subplots(2,2,figsize=(30, 12), gridspec_kw={'width_ratios': [6.5,20], 'height_ratios': [3,8]}, layout='constrained', dpi=united_dpi)\n",
    "    \n",
    "k_label = 6\n",
    "col_name = col_labels[k_label]\n",
    "i_provider = 0\n",
    "\n",
    "X = phyC_kernel_total[:,:,k_label].T\n",
    "model = AgglomerativeClustering(distance_threshold=0, n_clusters=None)\n",
    "model = model.fit(X)\n",
    "\n",
    "ax = axes[0, 0]\n",
    "ax.set_visible(False)\n",
    "    \n",
    "# dendrogram\n",
    "ax = axes[0, 1]\n",
    "# setting distance_threshold=0 ensures we compute the full tree.\n",
    "ax.set_title(\"Hierarchical clustering dendrogram on %s\" % col_name, fontsize=LABEL_SIZE)\n",
    "# plot the top three levels of the dendrogram\n",
    "ddg = plot_dendrogram(model, ax=ax, truncate_mode=\"level\", p=10)\n",
    "ddgs.append(ddg)\n",
    "ax.set_xticks([],[])\n",
    "ax.yaxis.set_tick_params(labelsize=TICK_SIZE)\n",
    "ax.xaxis.set_tick_params(labelsize=TICK_SIZE)\n",
    "\n",
    "# transfer vectors\n",
    "ax = axes[1, 1]\n",
    "    \n",
    "im = ax.imshow(phyC_kernel_total[:,[int(s) for s in ddg['ivl']], k_label], vmin=-range_v, vmax=range_v, aspect=2, cmap='RdBu')\n",
    "ax.set_title(\"Transfer vectors\", fontsize=LABEL_SIZE)\n",
    "ax.set_xticks(np.arange(n_providers), [int(i)+1 for i in ddg['ivl']], fontsize=TICK_SIZE, rotation=90) \n",
    "ax.set_yticks([],[]) \n",
    "ax.set_xlabel('Physician id ', fontsize=LABEL_SIZE, loc='right')\n",
    "cbar = fig.colorbar(im, ax=ax, format='%4.2f', pad=0.03, shrink=0.7)\n",
    "cbar.ax.tick_params(labelsize=TICK_SIZE)\n",
    "\n",
    "# transfer matrix\n",
    "ax = axes[1, 0]\n",
    "im = ax.imshow(phyC_kernel_total[:,0,:], vmin=-range_v, vmax=range_v, cmap='RdBu')\n",
    "ax.set_title(\"Transfer matrix of $p_%d$\" % (i_provider+1), fontsize=LABEL_SIZE)\n",
    "ax.set_xticks(range(n_labels),col_labels, fontsize=TICK_SIZE, rotation=90)\n",
    "ax.set_yticks(range(n_labels),col_labels, fontsize=TICK_SIZE) \n",
    "    \n",
    "plt.show()"
   ]
  },
  {
   "cell_type": "code",
   "execution_count": null,
   "id": "8ee631e3-efba-4d2f-aa3b-95ce692dd19d",
   "metadata": {},
   "outputs": [],
   "source": []
  }
 ],
 "metadata": {
  "kernelspec": {
   "display_name": "Python 3 (ipykernel)",
   "language": "python",
   "name": "python3"
  },
  "language_info": {
   "codemirror_mode": {
    "name": "ipython",
    "version": 3
   },
   "file_extension": ".py",
   "mimetype": "text/x-python",
   "name": "python",
   "nbconvert_exporter": "python",
   "pygments_lexer": "ipython3",
   "version": "3.9.12"
  }
 },
 "nbformat": 4,
 "nbformat_minor": 5
}
